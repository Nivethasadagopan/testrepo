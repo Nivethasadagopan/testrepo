{
  "metadata": {
    "kernelspec": {
      "name": "python",
      "display_name": "Pyolite",
      "language": "python"
    },
    "language_info": {
      "codemirror_mode": {
        "name": "python",
        "version": 3
      },
      "file_extension": ".py",
      "mimetype": "text/x-python",
      "name": "python",
      "nbconvert_exporter": "python",
      "pygments_lexer": "ipython3",
      "version": "3.8"
    }
  },
  "nbformat_minor": 4,
  "nbformat": 4,
  "cells": [
    {
      "cell_type": "markdown",
      "source": "# My Jupiter Notebook on IBM Watson Studio",
      "metadata": {}
    },
    {
      "cell_type": "markdown",
      "source": "**Nivetha Sadagopan**\nPursuing IBM Data Science Professional Course in Coursera",
      "metadata": {}
    },
    {
      "cell_type": "markdown",
      "source": "_As iam interested in Data Science from long ago, Forntunately i just had right time to do my Data Science course with IBM. I learning new languages Such as R and Python._",
      "metadata": {}
    },
    {
      "cell_type": "markdown",
      "source": "### Below are the few examples of Multiplication and addition",
      "metadata": {}
    },
    {
      "cell_type": "code",
      "source": "2*2",
      "metadata": {
        "trusted": true
      },
      "execution_count": 6,
      "outputs": [
        {
          "execution_count": 6,
          "output_type": "execute_result",
          "data": {
            "text/plain": "4"
          },
          "metadata": {}
        }
      ]
    },
    {
      "cell_type": "code",
      "source": "5+15",
      "metadata": {
        "trusted": true
      },
      "execution_count": 11,
      "outputs": [
        {
          "execution_count": 11,
          "output_type": "execute_result",
          "data": {
            "text/plain": "20"
          },
          "metadata": {}
        }
      ]
    },
    {
      "cell_type": "markdown",
      "source": "Here in this Notebook \n___",
      "metadata": {}
    },
    {
      "cell_type": "markdown",
      "source": "- I have used H1 and H3 header\n- Bold \n- Italic \n- Multiplication of numbers and",
      "metadata": {}
    },
    {
      "cell_type": "markdown",
      "source": "[I'm an inline-style link](https://www.google.com)",
      "metadata": {}
    },
    {
      "cell_type": "markdown",
      "source": "Number1 |  +  |  Number2 | equals\n--- | --- | --- | ---\n1 | + | 3 |  4\n2 | + | 4 |  6",
      "metadata": {}
    },
    {
      "cell_type": "markdown",
      "source": "This my First Jupiter Notebook Assignment[^].",
      "metadata": {}
    },
    {
      "cell_type": "markdown",
      "source": "I hope, i have done my best here[2].",
      "metadata": {}
    },
    {
      "cell_type": "code",
      "source": "",
      "metadata": {},
      "execution_count": null,
      "outputs": []
    }
  ]
}